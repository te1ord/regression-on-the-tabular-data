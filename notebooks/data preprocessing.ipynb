{
 "cells": [
  {
   "cell_type": "markdown",
   "id": "50ddc02a",
   "metadata": {},
   "source": [
    "Based on data analysis I decided to use only 6th feature, therefore now I am going to preprocess my data for model.\n"
   ]
  },
  {
   "cell_type": "code",
   "execution_count": 236,
   "id": "366cb495",
   "metadata": {},
   "outputs": [],
   "source": [
    "import pandas as pd\n",
    "import numpy as np"
   ]
  },
  {
   "cell_type": "code",
   "execution_count": 237,
   "id": "40eb11a7",
   "metadata": {},
   "outputs": [],
   "source": [
    "train_dataset = pd.read_csv('../data/initital/internship_train.csv')\n",
    "data_to_predict = pd.read_csv('../data/initital/internship_hidden_test.csv')"
   ]
  },
  {
   "cell_type": "code",
   "execution_count": 238,
   "id": "1bb37fbb",
   "metadata": {},
   "outputs": [],
   "source": [
    "train_data = train_dataset[['6', 'target']]\n",
    "data_to_predict = data_to_predict[['6']]"
   ]
  },
  {
   "cell_type": "markdown",
   "id": "fb6c9b9a",
   "metadata": {},
   "source": [
    "Now I'm goint to split my training data for train and valid data."
   ]
  },
  {
   "cell_type": "code",
   "execution_count": 241,
   "id": "d21210cf",
   "metadata": {},
   "outputs": [],
   "source": [
    "from sklearn.model_selection import train_test_split\n",
    "train_data, test_data = train_test_split(train_data, random_state=1, test_size = 0.2)"
   ]
  },
  {
   "cell_type": "code",
   "execution_count": 244,
   "id": "f64cb419",
   "metadata": {},
   "outputs": [],
   "source": [
    "import numpy as np\n",
    "data_to_predict['1'] = np.random.rand(10000)"
   ]
  },
  {
   "cell_type": "code",
   "execution_count": 243,
   "id": "c10b0ce6",
   "metadata": {},
   "outputs": [],
   "source": [
    "train_data.to_csv('../data/train_preprocessed/train_data.csv')\n",
    "test_data.to_csv('../data/train_preprocessed/test_data.csv')\n",
    "data_to_predict.to_csv('../data/predict_preprocessed/predict_data.csv')\n"
   ]
  },
  {
   "cell_type": "markdown",
   "id": "277a5a64",
   "metadata": {},
   "source": [
    "Now I am going to read this to see if all work well."
   ]
  },
  {
   "cell_type": "code",
   "execution_count": 45,
   "id": "0a8202bc",
   "metadata": {},
   "outputs": [],
   "source": [
    "import numpy as np\n",
    "train_data = np.loadtxt('../data/train_preprocessed/train_data', delimiter=',', skiprows=1, usecols=[1, 2], dtype=np.float32)\n",
    "test_data = np.loadtxt('../data/train_preprocessed/test_data', delimiter=',', skiprows=1, usecols=[1, 2], dtype=np.float32)\n",
    "predict_data = np.loadtxt('../data/predict_preprocessed/predict_data', delimiter=',', skiprows=1, usecols=[0, 1], dtype=np.float32)"
   ]
  },
  {
   "cell_type": "code",
   "execution_count": 46,
   "id": "5683d63d",
   "metadata": {},
   "outputs": [
    {
     "data": {
      "text/plain": [
       "array([[ 9.539392 , 91.23334  ],\n",
       "       [ 1.7320508,  3.027164 ],\n",
       "       [-2.6457512,  7.1838913],\n",
       "       ...,\n",
       "       [ 7.81025  , 61.177536 ],\n",
       "       [ 8.888194 , 79.91353  ],\n",
       "       [-7.071068 , 50.23603  ]], dtype=float32)"
      ]
     },
     "execution_count": 46,
     "metadata": {},
     "output_type": "execute_result"
    }
   ],
   "source": [
    "train_data"
   ]
  },
  {
   "cell_type": "code",
   "execution_count": 47,
   "id": "d9d45e87",
   "metadata": {},
   "outputs": [
    {
     "data": {
      "text/plain": [
       "array([[-5.196152 , 27.218664 ],\n",
       "       [-7.5498343, 57.429962 ],\n",
       "       [-8.062258 , 65.84673  ],\n",
       "       ...,\n",
       "       [-4.472136 , 20.555254 ],\n",
       "       [-1.4142135,  2.1158175],\n",
       "       [-8.124039 , 66.5579   ]], dtype=float32)"
      ]
     },
     "execution_count": 47,
     "metadata": {},
     "output_type": "execute_result"
    }
   ],
   "source": [
    "test_data"
   ]
  },
  {
   "cell_type": "code",
   "execution_count": 48,
   "id": "dc4a8d95",
   "metadata": {},
   "outputs": [
    {
     "data": {
      "text/plain": [
       "array([[ 0.0000000e+00,  3.3166249e+00],\n",
       "       [ 1.0000000e+00, -8.8881941e+00],\n",
       "       [ 2.0000000e+00,  2.6457512e+00],\n",
       "       ...,\n",
       "       [ 9.9970000e+03,  4.6904159e+00],\n",
       "       [ 9.9980000e+03,  4.0000000e+00],\n",
       "       [ 9.9990000e+03,  9.5393925e+00]], dtype=float32)"
      ]
     },
     "execution_count": 48,
     "metadata": {},
     "output_type": "execute_result"
    }
   ],
   "source": [
    "predict_data"
   ]
  },
  {
   "cell_type": "markdown",
   "id": "0a2986de",
   "metadata": {},
   "source": [
    "So now I am going to create a model"
   ]
  }
 ],
 "metadata": {
  "kernelspec": {
   "display_name": "Python 3 (ipykernel)",
   "language": "python",
   "name": "python3"
  },
  "language_info": {
   "codemirror_mode": {
    "name": "ipython",
    "version": 3
   },
   "file_extension": ".py",
   "mimetype": "text/x-python",
   "name": "python",
   "nbconvert_exporter": "python",
   "pygments_lexer": "ipython3",
   "version": "3.9.7"
  }
 },
 "nbformat": 4,
 "nbformat_minor": 5
}
